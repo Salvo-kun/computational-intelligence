{
 "cells": [
  {
   "cell_type": "markdown",
   "metadata": {
    "pycharm": {
     "name": "#%% md\n"
    }
   },
   "source": [
    "Copyright **`(c)`** 2022 Giovanni Squillero `<squillero@polito.it>`  \n",
    "[`https://github.com/squillero/computational-intelligence`](https://github.com/squillero/computational-intelligence)  \n",
    "Free for personal or classroom use; see [`LICENSE.md`](https://github.com/squillero/computational-intelligence/blob/master/LICENSE.md) for details.  \n"
   ]
  },
  {
   "cell_type": "markdown",
   "metadata": {
    "pycharm": {
     "name": "#%%\n"
    }
   },
   "source": [
    "# Lab 1: Set Covering\n",
    "\n",
    "First lab + peer review. List this activity in your final report, it will be part of your exam.\n",
    "\n",
    "## Task\n",
    "\n",
    "Given a number $N$ and some lists of integers $P = (L_0, L_1, L_2, ..., L_n)$, \n",
    "determine, if possible, $S = (L_{s_0}, L_{s_1}, L_{s_2}, ..., L_{s_n})$\n",
    "such that each number between $0$ and $N-1$ appears in at least one list\n",
    "\n",
    "$$\\forall n \\in [0, N-1] \\ \\exists i : n \\in L_{s_i}$$\n",
    "\n",
    "and that the total numbers of elements in all $L_{s_i}$ is minimum. \n",
    "\n",
    "## Instructions\n",
    "\n",
    "* Create the directory `lab1` inside the course repo (the one you registered with Andrea)\n",
    "* Put a `README.md` and your solution (all the files, code and auxiliary data if needed)\n",
    "* Use `problem` to generate the problems with different $N$\n",
    "* In the `README.md`, report the the total numbers of elements in $L_{s_i}$ for problem with $N \\in [5, 10, 20, 100, 500, 1000]$ and the total number on $nodes$ visited during the search. Use `seed=42`.\n",
    "* Use `GitHub Issues` to peer review others' lab\n",
    "\n",
    "## Notes\n",
    "\n",
    "* Working in group is not only allowed, but recommended (see: [Ubuntu](https://en.wikipedia.org/wiki/Ubuntu_philosophy) and [Cooperative Learning](https://files.eric.ed.gov/fulltext/EJ1096789.pdf)). Collaborations must be explicitly declared in the `README.md`.\n",
    "* [Yanking](https://www.emacswiki.org/emacs/KillingAndYanking) from the internet is allowed, but sources must be explicitly declared in the `README.md`.\n",
    "\n",
    "**Deadline**\n",
    "\n",
    "* Sunday, October 16th 23:59:59 for the working solution\n",
    "* Sunday, October 23rd 23:59:59 for the peer reviews"
   ]
  },
  {
   "cell_type": "code",
   "execution_count": 1,
   "metadata": {},
   "outputs": [],
   "source": [
    "import random"
   ]
  },
  {
   "cell_type": "code",
   "execution_count": 2,
   "metadata": {},
   "outputs": [],
   "source": [
    "def problem(N, seed=None):\n",
    "    random.seed(seed)\n",
    "    return [\n",
    "        list(set(random.randint(0, N - 1) for n in range(random.randint(N // 5, N // 2))))\n",
    "        for n in range(random.randint(N, N * 5))\n",
    "    ]"
   ]
  },
  {
   "cell_type": "code",
   "execution_count": 9,
   "metadata": {},
   "outputs": [],
   "source": [
    "from gx_utils import *\n",
    "import logging\n",
    "import random\n",
    "from collections import deque, defaultdict\n",
    "from itertools import combinations, product\n",
    "\n",
    "logging.basicConfig(format=\"%(message)s\", level=logging.INFO)\n",
    "\n",
    "def equivalent(state_1, state_2):\n",
    "    return state_1 == state_2"
   ]
  },
  {
   "cell_type": "code",
   "execution_count": 10,
   "metadata": {},
   "outputs": [],
   "source": [
    "def tree_search(blocks, goal, strategy=\"bf\", bound=False):\n",
    "    frontier = deque()\n",
    "\n",
    "    frontier.append(((set(), list()), blocks))\n",
    "\n",
    "    n = 0\n",
    "    while frontier:\n",
    "        n += 1\n",
    "        if strategy == \"bf\":\n",
    "            state = frontier.popleft()\n",
    "        elif strategy == \"df\":\n",
    "            state = frontier.pop()\n",
    "        else:\n",
    "            assert False, \"Unknown strategy\"\n",
    "        current, available_blocks = state\n",
    "        current_bag, current_sol = current\n",
    "\n",
    "        if bound is True and sum(len(_) for _ in current_sol) > len(goal):\n",
    "            continue\n",
    "        \n",
    "        if current_bag == goal:\n",
    "            logging.info(f\"Found a solution in {n:,} steps with w {sum(len(_) for _ in current_sol)}\")\n",
    "            logging.debug(f\"Solution: {current_sol}\")\n",
    "            break\n",
    "\n",
    "        for i, object in enumerate(available_blocks):       \n",
    "            # new_state_miss = (\n",
    "            #     (current_bag, current_sol),\n",
    "            #     available_blocks[:i] + available_blocks[i + 1 :]\n",
    "            # )\n",
    "            # frontier.append(new_state_miss)\n",
    "            \n",
    "            new_sol = list(current_sol)\n",
    "            new_sol.append(object)\n",
    "            new_state_add = (\n",
    "                (current_bag | set(object), new_sol),\n",
    "                available_blocks[:i] + available_blocks[i + 1 :]\n",
    "            )            \n",
    "            frontier.append(new_state_add)"
   ]
  },
  {
   "cell_type": "code",
   "execution_count": 15,
   "metadata": {},
   "outputs": [
    {
     "name": "stderr",
     "output_type": "stream",
     "text": [
      "INFO:root:Found a solution in 90 steps with w 5\n"
     ]
    },
    {
     "ename": "KeyboardInterrupt",
     "evalue": "",
     "output_type": "error",
     "traceback": [
      "\u001b[0;31m---------------------------------------------------------------------------\u001b[0m",
      "\u001b[0;31mKeyboardInterrupt\u001b[0m                         Traceback (most recent call last)",
      "Cell \u001b[0;32mIn [15], line 4\u001b[0m\n\u001b[1;32m      1\u001b[0m \u001b[38;5;28;01mfor\u001b[39;00m N \u001b[38;5;129;01min\u001b[39;00m [\u001b[38;5;241m5\u001b[39m, \u001b[38;5;241m10\u001b[39m, \u001b[38;5;241m20\u001b[39m]:\n\u001b[1;32m      2\u001b[0m \u001b[38;5;66;03m#for N in [5, 10, 20, 100, 500, 1000]:\u001b[39;00m\n\u001b[1;32m      3\u001b[0m     P \u001b[38;5;241m=\u001b[39m \u001b[38;5;28msorted\u001b[39m(problem(N, seed\u001b[38;5;241m=\u001b[39m\u001b[38;5;241m42\u001b[39m), key\u001b[38;5;241m=\u001b[39m\u001b[38;5;28;01mlambda\u001b[39;00m l: \u001b[38;5;241m-\u001b[39m\u001b[38;5;28mlen\u001b[39m(l))\n\u001b[0;32m----> 4\u001b[0m     \u001b[43mtree_search\u001b[49m\u001b[43m(\u001b[49m\u001b[43mP\u001b[49m\u001b[43m,\u001b[49m\u001b[43m \u001b[49m\u001b[38;5;28;43mset\u001b[39;49m\u001b[43m(\u001b[49m\u001b[38;5;28;43mrange\u001b[39;49m\u001b[43m(\u001b[49m\u001b[43mN\u001b[49m\u001b[43m)\u001b[49m\u001b[43m)\u001b[49m\u001b[43m,\u001b[49m\u001b[43m \u001b[49m\u001b[43mstrategy\u001b[49m\u001b[38;5;241;43m=\u001b[39;49m\u001b[38;5;124;43m'\u001b[39;49m\u001b[38;5;124;43mdf\u001b[39;49m\u001b[38;5;124;43m'\u001b[39;49m\u001b[43m,\u001b[49m\u001b[43m \u001b[49m\u001b[43mbound\u001b[49m\u001b[38;5;241;43m=\u001b[39;49m\u001b[38;5;28;43;01mTrue\u001b[39;49;00m\u001b[43m)\u001b[49m\n",
      "Cell \u001b[0;32mIn [10], line 36\u001b[0m, in \u001b[0;36mtree_search\u001b[0;34m(blocks, goal, strategy, bound)\u001b[0m\n\u001b[1;32m     33\u001b[0m new_sol \u001b[38;5;241m=\u001b[39m \u001b[38;5;28mlist\u001b[39m(current_sol)\n\u001b[1;32m     34\u001b[0m new_sol\u001b[38;5;241m.\u001b[39mappend(\u001b[38;5;28mobject\u001b[39m)\n\u001b[1;32m     35\u001b[0m new_state_add \u001b[38;5;241m=\u001b[39m (\n\u001b[0;32m---> 36\u001b[0m     (current_bag \u001b[38;5;241m|\u001b[39m \u001b[38;5;28;43mset\u001b[39;49m\u001b[43m(\u001b[49m\u001b[38;5;28;43mobject\u001b[39;49m\u001b[43m)\u001b[49m, new_sol),\n\u001b[1;32m     37\u001b[0m     available_blocks[:i] \u001b[38;5;241m+\u001b[39m available_blocks[i \u001b[38;5;241m+\u001b[39m \u001b[38;5;241m1\u001b[39m :]\n\u001b[1;32m     38\u001b[0m )            \n\u001b[1;32m     39\u001b[0m frontier\u001b[38;5;241m.\u001b[39mappend(new_state_add)\n",
      "\u001b[0;31mKeyboardInterrupt\u001b[0m: "
     ]
    }
   ],
   "source": [
    "for N in [5, 10, 20]:\n",
    "#for N in [5, 10, 20, 100, 500, 1000]:\n",
    "    P = sorted(problem(N, seed=42), key=lambda l: -len(l))\n",
    "    tree_search(P, set(range(N)), strategy='df', bound=True)"
   ]
  }
 ],
 "metadata": {
  "kernelspec": {
   "display_name": "Python 3.10.7 ('ci22-dPIXJ0_o-py3.10')",
   "language": "python",
   "name": "python3"
  },
  "language_info": {
   "codemirror_mode": {
    "name": "ipython",
    "version": 3
   },
   "file_extension": ".py",
   "mimetype": "text/x-python",
   "name": "python",
   "nbconvert_exporter": "python",
   "pygments_lexer": "ipython3",
   "version": "3.8.10"
  },
  "vscode": {
   "interpreter": {
    "hash": "10197e8e2f2aa67e2c349105091c77f4cd384fce4877865f002d9ec653f96bc0"
   }
  }
 },
 "nbformat": 4,
 "nbformat_minor": 2
}
