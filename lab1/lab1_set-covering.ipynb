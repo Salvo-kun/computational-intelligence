{
 "cells": [
  {
   "cell_type": "markdown",
   "metadata": {
    "pycharm": {
     "name": "#%% md\n"
    }
   },
   "source": [
    "Copyright **`(c)`** 2022 Giovanni Squillero `<squillero@polito.it>`  \n",
    "[`https://github.com/squillero/computational-intelligence`](https://github.com/squillero/computational-intelligence)  \n",
    "Free for personal or classroom use; see [`LICENSE.md`](https://github.com/squillero/computational-intelligence/blob/master/LICENSE.md) for details.  \n"
   ]
  },
  {
   "cell_type": "markdown",
   "metadata": {
    "pycharm": {
     "name": "#%%\n"
    }
   },
   "source": [
    "# Lab 1: Set Covering\n",
    "\n",
    "First lab + peer review. List this activity in your final report, it will be part of your exam.\n",
    "\n",
    "## Task\n",
    "\n",
    "Given a number $N$ and some lists of integers $P = (L_0, L_1, L_2, ..., L_n)$, \n",
    "determine, if possible, $S = (L_{s_0}, L_{s_1}, L_{s_2}, ..., L_{s_n})$\n",
    "such that each number between $0$ and $N-1$ appears in at least one list\n",
    "\n",
    "$$\\forall n \\in [0, N-1] \\ \\exists i : n \\in L_{s_i}$$\n",
    "\n",
    "and that the total numbers of elements in all $L_{s_i}$ is minimum. \n",
    "\n",
    "## Instructions\n",
    "\n",
    "* Create the directory `lab1` inside the course repo (the one you registered with Andrea)\n",
    "* Put a `README.md` and your solution (all the files, code and auxiliary data if needed)\n",
    "* Use `problem` to generate the problems with different $N$\n",
    "* In the `README.md`, report the the total numbers of elements in $L_{s_i}$ for problem with $N \\in [5, 10, 20, 100, 500, 1000]$ and the total number on $nodes$ visited during the search. Use `seed=42`.\n",
    "* Use `GitHub Issues` to peer review others' lab\n",
    "\n",
    "## Notes\n",
    "\n",
    "* Working in group is not only allowed, but recommended (see: [Ubuntu](https://en.wikipedia.org/wiki/Ubuntu_philosophy) and [Cooperative Learning](https://files.eric.ed.gov/fulltext/EJ1096789.pdf)). Collaborations must be explicitly declared in the `README.md`.\n",
    "* [Yanking](https://www.emacswiki.org/emacs/KillingAndYanking) from the internet is allowed, but sources must be explicitly declared in the `README.md`.\n",
    "\n",
    "**Deadline**\n",
    "\n",
    "* Sunday, October 16th 23:59:59 for the working solution\n",
    "* Sunday, October 23rd 23:59:59 for the peer reviews"
   ]
  },
  {
   "cell_type": "code",
   "execution_count": 23,
   "metadata": {},
   "outputs": [],
   "source": [
    "import random"
   ]
  },
  {
   "cell_type": "code",
   "execution_count": 24,
   "metadata": {},
   "outputs": [],
   "source": [
    "def problem(N, seed=None):\n",
    "    random.seed(seed)\n",
    "    return [\n",
    "        list(set(random.randint(0, N - 1) for n in range(random.randint(N // 5, N // 2))))\n",
    "        for n in range(random.randint(N, N * 5))\n",
    "    ]"
   ]
  },
  {
   "cell_type": "markdown",
   "metadata": {},
   "source": [
    "<h1>Generative Solution</h1>"
   ]
  },
  {
   "cell_type": "code",
   "execution_count": 25,
   "metadata": {},
   "outputs": [],
   "source": [
    "class State:\n",
    "    def __init__(self, data: set):\n",
    "        self._data = set(data)\n",
    "\n",
    "    def __hash__(self):\n",
    "        return hash(frozenset(self._data))\n",
    "\n",
    "    def __eq__(self, other):\n",
    "        return self._data == other._data\n",
    "\n",
    "    def __lt__(self, other):\n",
    "        return self._data < other._data\n",
    "\n",
    "    def __or__(self, other):\n",
    "        return State(self._data | other._data)\n",
    "\n",
    "    def __and__(self, other):\n",
    "        return State(self._data & other._data)\n",
    "\n",
    "    def __sub__(self, other):\n",
    "        return State(self._data - other._data)\n",
    "\n",
    "    def __str__(self):\n",
    "        return str(self._data)\n",
    "\n",
    "    def __repr__(self):\n",
    "        return repr(self._data)  \n",
    "\n",
    "    def __len__(self):\n",
    "        return len(self._data)        \n",
    "\n",
    "    @property\n",
    "    def data(self):\n",
    "        return self._data\n",
    "\n",
    "    def copy_data(self):\n",
    "        return self._data.copy()"
   ]
  },
  {
   "cell_type": "code",
   "execution_count": 26,
   "metadata": {},
   "outputs": [],
   "source": [
    "\n",
    "from gx_utils import *\n",
    "import logging\n",
    "from random import seed, choice\n",
    "from typing import Callable\n",
    "\n",
    "logging.basicConfig(format=\"%(message)s\", level=logging.INFO)"
   ]
  },
  {
   "cell_type": "code",
   "execution_count": 27,
   "metadata": {},
   "outputs": [],
   "source": [
    "def goal_test(state):\n",
    "    return state == GOAL\n",
    "\n",
    "def possible_actions():\n",
    "    return (State(x) for x in P)\n",
    "\n",
    "def result(state, action):\n",
    "    return state | action\n",
    "    \n",
    "def search( \n",
    "    initial_state: State,\n",
    "    goal_test: Callable,\n",
    "    parent_state: dict,\n",
    "    state_cost: dict,\n",
    "    priority_function: Callable,\n",
    "    unit_cost: Callable\n",
    "):\n",
    "    parent_state.clear()\n",
    "    state_cost.clear()\n",
    "    frontier = PriorityQueue()\n",
    "    state = initial_state\n",
    "    parent_state[state] = None\n",
    "    state_cost[state] = 0\n",
    "    generated_states = 0\n",
    "\n",
    "    while state is not None and not goal_test(state):\n",
    "        for a in possible_actions():            \n",
    "            new_state = result(state, a)\n",
    "            cost = unit_cost(state, a)\n",
    "            generated_states += 1\n",
    "\n",
    "            if new_state not in state_cost and new_state not in frontier:\n",
    "                parent_state[new_state] = (state, a)\n",
    "                state_cost[new_state] = state_cost[state] + cost\n",
    "                frontier.push(new_state, p=priority_function(new_state))\n",
    "                logging.debug(f\"Added new node {new_state} to frontier (cost={state_cost[new_state]}, h = {priority_function(new_state)})\")\n",
    "            elif new_state in frontier and state_cost[new_state] > state_cost[state] + cost:\n",
    "                old_cost = state_cost[new_state]\n",
    "                parent_state[new_state] = (state, a)\n",
    "                state_cost[new_state] = state_cost[state] + cost\n",
    "                logging.debug(f\"Updated node {new_state} cost in frontier: {old_cost} -> {state_cost[new_state]}\")\n",
    "        if frontier:\n",
    "            state = frontier.pop()\n",
    "        else:\n",
    "            state = None\n",
    "\n",
    "    path = list()\n",
    "    s = state\n",
    "    while parent_state[s]:\n",
    "        s, a = parent_state[s]\n",
    "        path.append(a)\n",
    "\n",
    "    logging.info(f\"Found a solution with {sum(len(_.data) for _ in path)} elements; visited {len(state_cost):,} states over {generated_states} generated states\")\n",
    "    return list(reversed(path))"
   ]
  },
  {
   "cell_type": "markdown",
   "metadata": {},
   "source": [
    "<h2>Exact Solution</h1>"
   ]
  },
  {
   "cell_type": "code",
   "execution_count": 34,
   "metadata": {},
   "outputs": [
    {
     "name": "stderr",
     "output_type": "stream",
     "text": [
      "N = 5\n",
      "Found a solution with 5 elements; visited 32 states over 775 generated states\n",
      "N = 10\n",
      "Found a solution with 10 elements; visited 706 states over 29100 generated states\n",
      "N = 20\n",
      "Found a solution with 23 elements; visited 13,044 states over 97342 generated states\n"
     ]
    }
   ],
   "source": [
    "logging.getLogger().setLevel(logging.INFO)\n",
    "for N in [5, 10, 20]:\n",
    "    parent_state = dict()\n",
    "    state_cost = dict()\n",
    "    GOAL = State(set(range(N)))\n",
    "    P = problem(N, seed=42) \n",
    "\n",
    "    INITIAL_STATE = State(set())\n",
    "    logging.info(f'N = {N}')\n",
    "    final = search(\n",
    "        INITIAL_STATE,\n",
    "        goal_test=goal_test,\n",
    "        parent_state=parent_state,\n",
    "        state_cost=state_cost,\n",
    "        priority_function=lambda s: state_cost[s],\n",
    "        unit_cost=lambda state, action: len(state & action),\n",
    "    )\n",
    "    logging.debug(final)\n"
   ]
  },
  {
   "cell_type": "markdown",
   "metadata": {},
   "source": [
    "<h2>Heuristic Solution</h1>"
   ]
  },
  {
   "cell_type": "code",
   "execution_count": 33,
   "metadata": {},
   "outputs": [
    {
     "name": "stderr",
     "output_type": "stream",
     "text": [
      "N = 5\n",
      "Found a solution with 5 elements; visited 17 states over 75 generated states\n",
      "N = 10\n",
      "Found a solution with 10 elements; visited 63 states over 150 generated states\n",
      "N = 20\n",
      "Found a solution with 28 elements; visited 74 states over 136 generated states\n",
      "N = 100\n",
      "Found a solution with 192 elements; visited 1,706 states over 2135 generated states\n",
      "N = 500\n",
      "Found a solution with 1304 elements; visited 10,778 states over 12663 generated states\n",
      "N = 1000\n",
      "Found a solution with 2893 elements; visited 24,238 states over 28952 generated states\n"
     ]
    }
   ],
   "source": [
    "logging.getLogger().setLevel(logging.INFO)\n",
    "for N in [5, 10, 20, 100, 500, 1000]:\n",
    "    parent_state = dict()\n",
    "    state_cost = dict()\n",
    "    GOAL = State(set(range(N)))\n",
    "    P = problem(N, seed=42) \n",
    "    \n",
    "    def h(state):\n",
    "        return N - len(state)\n",
    "\n",
    "    INITIAL_STATE = State(set())\n",
    "    logging.info(f'N = {N}')\n",
    "    final = search(\n",
    "        INITIAL_STATE,\n",
    "        goal_test=goal_test,\n",
    "        parent_state=parent_state,\n",
    "        state_cost=state_cost,\n",
    "        priority_function=lambda s: h(s),\n",
    "        unit_cost=lambda state, action: len(state & action),\n",
    "    )\n",
    "    logging.debug(final)"
   ]
  },
  {
   "cell_type": "markdown",
   "metadata": {},
   "source": [
    "<h2>Enhanced Greedy Solution</h2>"
   ]
  },
  {
   "cell_type": "code",
   "execution_count": 31,
   "metadata": {},
   "outputs": [
    {
     "name": "stderr",
     "output_type": "stream",
     "text": [
      "Greedy solution for N=5: w=5, visited 5 states\n",
      "Greedy solution for N=10: w=12, visited 5 states\n",
      "Greedy solution for N=20: w=30, visited 6 states\n",
      "Greedy solution for N=100: w=171, visited 8 states\n",
      "Greedy solution for N=500: w=1256, visited 12 states\n",
      "Greedy solution for N=1000: w=2913, visited 13 states\n"
     ]
    }
   ],
   "source": [
    "def solve(N):\n",
    "    goal = set(range(N))\n",
    "    covered = set()\n",
    "    solution = list()\n",
    "    visited_nodes = 0\n",
    "\n",
    "    max_finder = lambda l: len(set(l) - covered)/len(l) \n",
    "\n",
    "    P = problem(N, seed=42)\n",
    "\n",
    "    while goal != covered:        \n",
    "        x = max(P, key = max_finder)\n",
    "        if not set(x) < covered:\n",
    "            solution.append(x)\n",
    "            covered |= set(x)\n",
    "            visited_nodes += 1\n",
    "\n",
    "    logging.info(\n",
    "        f\"Greedy solution for N={N}: w={sum(len(_) for _ in solution)}, visited {visited_nodes} states\"\n",
    "    )\n",
    "    logging.debug(f\"{solution}\")\n",
    "\n",
    "for N in [5, 10, 20, 100, 500, 1000]:\n",
    "    solve(N)"
   ]
  }
 ],
 "metadata": {
  "kernelspec": {
   "display_name": "Python 3.10.2 64-bit",
   "language": "python",
   "name": "python3"
  },
  "language_info": {
   "codemirror_mode": {
    "name": "ipython",
    "version": 3
   },
   "file_extension": ".py",
   "mimetype": "text/x-python",
   "name": "python",
   "nbconvert_exporter": "python",
   "pygments_lexer": "ipython3",
   "version": "3.10.2"
  },
  "vscode": {
   "interpreter": {
    "hash": "369f2c481f4da34e4445cda3fffd2e751bd1c4d706f27375911949ba6bb62e1c"
   }
  }
 },
 "nbformat": 4,
 "nbformat_minor": 2
}
