{
 "cells": [
  {
   "cell_type": "markdown",
   "metadata": {
    "pycharm": {
     "name": "#%% md\n"
    }
   },
   "source": [
    "Copyright **`(c)`** 2022 Giovanni Squillero `<squillero@polito.it>`  \n",
    "[`https://github.com/squillero/computational-intelligence`](https://github.com/squillero/computational-intelligence)  \n",
    "Free for personal or classroom use; see [`LICENSE.md`](https://github.com/squillero/computational-intelligence/blob/master/LICENSE.md) for details.  \n"
   ]
  },
  {
   "cell_type": "markdown",
   "metadata": {
    "pycharm": {
     "name": "#%%\n"
    }
   },
   "source": [
    "# Lab 3: Policy Search\n",
    "\n",
    "## Task\n",
    "\n",
    "Write agents able to play [*Nim*](https://en.wikipedia.org/wiki/Nim), with an arbitrary number of rows and an upper bound $k$ on the number of objects that can be removed in a turn (a.k.a., *subtraction game*).\n",
    "\n",
    "The player **taking the last object wins**.\n",
    "\n",
    "* Task3.1: An agent using fixed rules based on *nim-sum* (i.e., an *expert system*)\n",
    "* Task3.2: An agent using evolved rules\n",
    "* Task3.3: An agent using minmax\n",
    "* Task3.4: An agent using reinforcement learning\n",
    "\n",
    "## Instructions\n",
    "\n",
    "* Create the directory `lab3` inside the course repo \n",
    "* Put a `README.md` and your solution (all the files, code and auxiliary data if needed)\n",
    "\n",
    "## Notes\n",
    "\n",
    "* Working in group is not only allowed, but recommended (see: [Ubuntu](https://en.wikipedia.org/wiki/Ubuntu_philosophy) and [Cooperative Learning](https://files.eric.ed.gov/fulltext/EJ1096789.pdf)). Collaborations must be explicitly declared in the `README.md`.\n",
    "* [Yanking](https://www.emacswiki.org/emacs/KillingAndYanking) from the internet is allowed, but sources must be explicitly declared in the `README.md`.\n",
    "\n",
    "## Deadlines ([AoE](https://en.wikipedia.org/wiki/Anywhere_on_Earth))\n",
    "\n",
    "* Sunday, December 4th for Task3.1 and Task3.2\n",
    "* Sunday, December 11th for Task3.3 and Task3.4\n",
    "* Sunday, December 18th for all reviews"
   ]
  },
  {
   "cell_type": "code",
   "execution_count": 19,
   "metadata": {},
   "outputs": [],
   "source": [
    "import logging\n",
    "from collections import namedtuple\n",
    "import random\n",
    "from typing import Callable\n",
    "from copy import deepcopy\n",
    "from itertools import accumulate\n",
    "from operator import xor\n",
    "\n",
    "logging.getLogger().setLevel(logging.INFO)"
   ]
  },
  {
   "cell_type": "markdown",
   "metadata": {},
   "source": [
    "## The *Nim* and *Nimply* classes"
   ]
  },
  {
   "cell_type": "code",
   "execution_count": 2,
   "metadata": {},
   "outputs": [],
   "source": [
    "Nimply = namedtuple(\"Nimply\", \"row, num_objects\")"
   ]
  },
  {
   "cell_type": "code",
   "execution_count": 3,
   "metadata": {},
   "outputs": [],
   "source": [
    "class Nim:\n",
    "    def __init__(self, num_rows: int, k: int = None) -> None:\n",
    "        self._rows = [i * 2 + 1 for i in range(num_rows)]\n",
    "        self._k = k\n",
    "\n",
    "    def __bool__(self):\n",
    "        return sum(self._rows) > 0\n",
    "\n",
    "    def __str__(self):\n",
    "        return \"<\" + \" \".join(str(_) for _ in self._rows) + \">\"\n",
    "\n",
    "    @property\n",
    "    def rows(self) -> tuple:\n",
    "        return tuple(self._rows)\n",
    "\n",
    "    @property\n",
    "    def k(self) -> int:\n",
    "        return self._k\n",
    "\n",
    "    def nimming(self, ply: Nimply) -> None:\n",
    "        row, num_objects = ply\n",
    "        assert self._rows[row] >= num_objects\n",
    "        assert self._k is None or num_objects <= self._k\n",
    "        self._rows[row] -= num_objects"
   ]
  },
  {
   "cell_type": "markdown",
   "metadata": {},
   "source": [
    "## Sample (and silly) startegies "
   ]
  },
  {
   "cell_type": "code",
   "execution_count": 4,
   "metadata": {},
   "outputs": [],
   "source": [
    "def nim_sum(state: Nim) -> int:\n",
    "    *_, result = accumulate(state.rows, xor)\n",
    "    return result\n",
    "\n",
    "\n",
    "def cook_status(state: Nim) -> dict:\n",
    "    cooked = dict()\n",
    "    cooked[\"possible_moves\"] = [\n",
    "        (r, o) for r, c in enumerate(state.rows) for o in range(1, c + 1) if state.k is None or o <= state.k\n",
    "    ]\n",
    "    cooked[\"active_rows_number\"] = sum(o > 0 for o in state.rows)\n",
    "    cooked[\"shortest_row\"] = min((x for x in enumerate(state.rows) if x[1] > 0), key=lambda y: y[1])[0]\n",
    "    cooked[\"longest_row\"] = max((x for x in enumerate(state.rows)), key=lambda y: y[1])[0]\n",
    "    cooked[\"nim_sum\"] = nim_sum(state)\n",
    "\n",
    "    brute_force = list()\n",
    "    for m in cooked[\"possible_moves\"]:\n",
    "        tmp = deepcopy(state)\n",
    "        tmp.nimming(m)\n",
    "        brute_force.append((m, nim_sum(tmp)))\n",
    "    cooked[\"brute_force\"] = brute_force\n",
    "\n",
    "    return cooked"
   ]
  },
  {
   "cell_type": "code",
   "execution_count": 5,
   "metadata": {},
   "outputs": [],
   "source": [
    "def optimal_strategy(state: Nim) -> Nimply:\n",
    "    data = cook_status(state)\n",
    "    return next((bf for bf in data[\"brute_force\"] if bf[1] == 0), random.choice(data[\"brute_force\"]))[0]"
   ]
  },
  {
   "cell_type": "code",
   "execution_count": 13,
   "metadata": {},
   "outputs": [],
   "source": [
    "NUM_MATCHES = 10\n",
    "NIM_SIZE = 6\n",
    "K = None\n",
    "\n",
    "def evaluate(strategyA: Callable, strategyB: Callable) -> float:\n",
    "    opponent = (strategyA, strategyB)\n",
    "    won = 0\n",
    "\n",
    "    for m in range(NUM_MATCHES):\n",
    "        nim = Nim(NIM_SIZE, K)\n",
    "        player = 1\n",
    "        while nim:\n",
    "            ply = opponent[player](nim)\n",
    "            nim.nimming(ply)\n",
    "            player = 1 - player\n",
    "        if player == 1:\n",
    "            won += 1\n",
    "    return won / NUM_MATCHES"
   ]
  },
  {
   "cell_type": "code",
   "execution_count": 7,
   "metadata": {},
   "outputs": [],
   "source": [
    "# Among all possible moves, simply do this:\n",
    "# - if there is a winning move, choose it\n",
    "# - if there is not a winning move but the move puts the opponent in a winning situation, discard it\n",
    "# - otherwise choose the first move possible, even if not optimal (obliged to do a move)\n",
    "\n",
    "def fixed_strategy(state: Nim):\n",
    "    possible_moves = ((r, o) for r, c in enumerate(state.rows) for o in range(1, c + 1) if state.k is None or o <= state.k)\n",
    "    move = None\n",
    "    firstMove = None\n",
    "\n",
    "    for m in possible_moves:\n",
    "        if firstMove == None:\n",
    "            firstMove = Nimply(m[0], m[1])\n",
    "        tmp = deepcopy(state)\n",
    "        tmp.nimming(m)\n",
    "        if not tmp:\n",
    "            return Nimply(m[0], m[1])\n",
    "        elif len([r for r in state.rows if r > 0 and (state.k == None or r < state.k)]) == 1:\n",
    "            continue\n",
    "        elif move == None:\n",
    "            move = Nimply(m[0], m[1])\n",
    "\n",
    "    return move if move != None else firstMove\n"
   ]
  },
  {
   "cell_type": "code",
   "execution_count": 22,
   "metadata": {},
   "outputs": [
    {
     "name": "stderr",
     "output_type": "stream",
     "text": [
      "INFO:root:[Individual(genome=[0.1348724790452498, 0.994924756926436, 0.37244151399233283, 0.09372452989510183, 0.04845926033229975], fitness=(1.0, 0.11)), Individual(genome=[0.2150090643810777, 0.01151942036530762, 0.02188270846746554, 0.1361667059290339, 0.9766475188062447], fitness=(1.0, 0.06)), Individual(genome=[0.8302306140125435, 0.6577773297714204, 0.1892682005108115, 0.9791417211608511, 0.5319228711076128], fitness=(1.0, 0.07)), Individual(genome=[0.6893559393605387, 0.7495943919023228, 0.9663414076793236, 0.9512788391768748, 0.02348272572469501], fitness=(1.0, 0.1)), Individual(genome=[0.13227155201007001, 0.5218982672110298, 0.8540263597279302, 0.19940064638387411, 0.7976968423948293], fitness=(1.0, 0.14)), Individual(genome=[0.18458035951103302, 0.10982205333541861, 0.42313370714545306, 0.5065330912181025, 0.7186786243093095], fitness=(1.0, 0.08)), Individual(genome=[0.3828595654612942, 0.5962915162341055, 0.3838001843109642, 0.45981303335045054, 0.038913111945559575], fitness=(1.0, 0.06)), Individual(genome=[0.6237963133323741, 0.9710506896330133, 0.6455123577469705, 0.8733456970005068, 0.6840811122252274], fitness=(1.0, 0.07)), Individual(genome=[0.4388156379234913, 0.8012696803887425, 0.09408275115239506, 0.9548332953193511, 0.8461326742809282], fitness=(1.0, 0.04)), Individual(genome=[0.6167667784731761, 0.19075911877612628, 0.6633583493207172, 0.9748558024032835, 0.901761542321059], fitness=(1.0, 0.04))]\n",
      "INFO:root:Generation 0\n",
      "INFO:root:Generation 1\n",
      "INFO:root:Generation 2\n",
      "INFO:root:Generation 3\n",
      "INFO:root:Generation 4\n",
      "INFO:root:Generation 5\n",
      "INFO:root:Generation 6\n",
      "INFO:root:Generation 7\n",
      "INFO:root:Generation 8\n",
      "INFO:root:Generation 9\n",
      "INFO:root:Best individual: Individual(genome=[0.38879019508971424, 0.8683084068144893, 0.5035180118948246, 0.4901417347525817, 0.3735912112894339], fitness=(1.0, 0.15))\n"
     ]
    },
    {
     "data": {
      "text/plain": [
       "<function __main__.evolvable_strategy.<locals>.strategy(state: __main__.Nim)>"
      ]
     },
     "execution_count": 22,
     "metadata": {},
     "output_type": "execute_result"
    }
   ],
   "source": [
    "from statistics import *\n",
    "\n",
    "RULES = [sum, min, max, mean, stdev]\n",
    "\n",
    "def evolvable_strategy(genome):\n",
    "    def strategy(state: Nim):\n",
    "            possible_moves = [(r, o) for r, c in enumerate(state.rows) for o in range(1, c + 1) if state.k is None or o <= state.k]\n",
    "            best_play = None\n",
    "            for m in possible_moves:\n",
    "                tmp = deepcopy(state)\n",
    "                tmp.nimming(m)\n",
    "                \n",
    "                play = (m, sum(w * op(state.rows) for w, op in zip(genome, RULES)))\n",
    "\n",
    "                if play[1] == 0:\n",
    "                    return play[0]                \n",
    "\n",
    "                if best_play == None or best_play[1] > play[1]:\n",
    "                    best_play = play\n",
    "                                \n",
    "            return best_play[0]\n",
    "    \n",
    "    return strategy\n",
    "\n",
    "def mutation(genome):\n",
    "    point = random.randint(0, len(genome))\n",
    "    return genome[:point] + [random.random()] + genome[point + 1:]\n",
    "\n",
    "def crossover(genomeA, genomeB):\n",
    "    p = random.random()\n",
    "    return [p * x + (1 - p) * y for x, y in zip(genomeA, genomeB)]\n",
    "\n",
    "def tournament(population, tournament_size):\n",
    "    return max(random.choices(population, k=tournament_size), key=lambda i: i.fitness)\n",
    "\n",
    "def fitness(genome, population):\n",
    "    games = 5\n",
    "    f = 0.0\n",
    "\n",
    "    for opponent in random.choices(population, k=games):\n",
    "        f += evaluate(evolvable_strategy(genome), evolvable_strategy(opponent.genome)) + evaluate(evolvable_strategy(opponent.genome), evolvable_strategy(genome))\n",
    "\n",
    "    return (f/10, evaluate(evolvable_strategy(genome), optimal_strategy))\n",
    "        \n",
    "def genetic_algorithm():\n",
    "    Individual = namedtuple('Individual', ('genome', 'fitness'))\n",
    "\n",
    "    NUM_GENS = 10    \n",
    "    POPULATION_SIZE = 10\n",
    "    OFFSPRING_SIZE = 10\n",
    "    TOURNAMENT_SIZE = 2\n",
    "\n",
    "    population = [Individual(i, 0) for i in ([random.random() for _ in range(len(RULES))] for _ in range(POPULATION_SIZE))]\n",
    "\n",
    "    for idx, i in enumerate(population):\n",
    "        population[idx] = Individual(i.genome, fitness(i.genome, population))\n",
    "\n",
    "    logging.info(population)\n",
    "\n",
    "    for g in range(NUM_GENS):\n",
    "        logging.info(f'Generation {g}')\n",
    "        offspring = list()\n",
    "        for i in range(OFFSPRING_SIZE):\n",
    "            if random.random() < 0.3:\n",
    "                p = tournament(population, tournament_size=TOURNAMENT_SIZE)\n",
    "                o = mutation(p.genome)\n",
    "            else:\n",
    "                p1 = tournament(population, tournament_size=TOURNAMENT_SIZE)\n",
    "                p2 = tournament(population, tournament_size=TOURNAMENT_SIZE)\n",
    "                o = crossover(p1.genome, p2.genome)\n",
    "            f = fitness(o, population)\n",
    "            offspring.append(Individual(o, f))\n",
    "        population += offspring\n",
    "        population = sorted(population, key=lambda i: i.fitness, reverse=True)[:POPULATION_SIZE]\n",
    "    \n",
    "    best = max(population, key=lambda i: i.fitness)\n",
    "    logging.info(f'Best individual: {best}')\n",
    "\n",
    "    return evolvable_strategy(best.genome)\n",
    "\n",
    "genetic_algorithm()"
   ]
  },
  {
   "cell_type": "code",
   "execution_count": 18,
   "metadata": {},
   "outputs": [],
   "source": [
    "NUM_MATCHES = 100\n",
    "NIM_SIZE = 4\n",
    "K = None\n",
    "\n",
    "logging.info(evaluate(optimal_strategy, fixed_strategy))\n",
    "logging.info(evaluate(fixed_strategy, optimal_strategy))\n",
    "\n",
    "K = NIM_SIZE // 2\n",
    "logging.info(evaluate(optimal_strategy, fixed_strategy))\n",
    "logging.info(evaluate(fixed_strategy, optimal_strategy))"
   ]
  },
  {
   "cell_type": "markdown",
   "metadata": {},
   "source": [
    "## Oversimplified match"
   ]
  },
  {
   "cell_type": "code",
   "execution_count": 287,
   "metadata": {},
   "outputs": [
    {
     "name": "stderr",
     "output_type": "stream",
     "text": [
      "DEBUG:root:status: Initial board  -> <1 3 5 7>\n",
      "DEBUG:root:status: After player 0 -> <1 1 5 7>\n",
      "DEBUG:root:status: After player 1 -> <0 1 5 7>\n",
      "DEBUG:root:status: After player 0 -> <0 1 4 7>\n",
      "DEBUG:root:status: After player 1 -> <0 0 4 7>\n",
      "DEBUG:root:status: After player 0 -> <0 0 3 7>\n",
      "DEBUG:root:status: After player 1 -> <0 0 2 7>\n",
      "DEBUG:root:status: After player 0 -> <0 0 1 7>\n",
      "DEBUG:root:status: After player 1 -> <0 0 0 7>\n",
      "DEBUG:root:status: After player 0 -> <0 0 0 5>\n",
      "DEBUG:root:status: After player 1 -> <0 0 0 4>\n",
      "DEBUG:root:status: After player 0 -> <0 0 0 2>\n",
      "DEBUG:root:status: After player 1 -> <0 0 0 0>\n",
      "INFO:root:status: Player 1 won!\n"
     ]
    }
   ],
   "source": [
    "logging.getLogger().setLevel(logging.DEBUG)\n",
    "\n",
    "strategy = (optimal_strategy, fixed_strategy)\n",
    "\n",
    "nim = Nim(4, 2)\n",
    "logging.debug(f\"status: Initial board  -> {nim}\")\n",
    "player = 0\n",
    "while nim:\n",
    "    ply = strategy[player](nim) \n",
    "    nim.nimming(ply)\n",
    "    logging.debug(f\"status: After player {player} -> {nim}\")\n",
    "    player = 1 - player\n",
    "winner = 1 - player\n",
    "logging.info(f\"status: Player {winner} won!\")"
   ]
  }
 ],
 "metadata": {
  "kernelspec": {
   "display_name": "Python 3.10.2 ('.venv': poetry)",
   "language": "python",
   "name": "python3"
  },
  "language_info": {
   "codemirror_mode": {
    "name": "ipython",
    "version": 3
   },
   "file_extension": ".py",
   "mimetype": "text/x-python",
   "name": "python",
   "nbconvert_exporter": "python",
   "pygments_lexer": "ipython3",
   "version": "3.10.2"
  },
  "vscode": {
   "interpreter": {
    "hash": "e660ce8e299eab6e1afd5ba1640493fbea599bc98ebfd90153bb9a99407a2701"
   }
  }
 },
 "nbformat": 4,
 "nbformat_minor": 2
}
